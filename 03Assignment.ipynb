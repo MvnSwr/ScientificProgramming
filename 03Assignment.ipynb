{
 "cells": [
  {
   "cell_type": "markdown",
   "id": "eecd41c3-6b79-4d6c-b2c4-73a092665b9c",
   "metadata": {},
   "source": [
    "# Scientific Programming with Python\n",
    "## Assignment: Estimating the Herd Immunity Threshold of Different Viruses\n",
    "### SciPro_ID: 2024WS_93\n",
    "####\n",
    "#### Karl N. Kirschner, \n",
    "#### Department of Computer Science, University of Applied Sciences Bonn-Rhein-Sieg, Sankt Augustin, Germany"
   ]
  },
  {
   "cell_type": "markdown",
   "id": "3073184b-af45-4ed2-b93b-0bff96a33bc5",
   "metadata": {},
   "source": [
    "#### Date: 27.10.2024\n",
    "#####\n",
    "#### Goal: Familiarize myself with user-defined functions, significant figures and learn something about a population's herd immunity"
   ]
  },
  {
   "cell_type": "markdown",
   "id": "3979705c-66fe-457f-ad17-6d3b21937452",
   "metadata": {},
   "source": [
    "#### Task 1:\n",
    "Compute the herd immunity threshold value [1], as a percentage, based on an estimated basic reproduction numbers (R<sub>0</sub>) for each of the diseases given in Table 1"
   ]
  },
  {
   "cell_type": "markdown",
   "id": "240a4a43-cea0-4441-b53c-a085037778e6",
   "metadata": {},
   "source": [
    "#### Table 1 \n",
    "[2]\n",
    "\n",
    "|Disease        |  R<sub>0</sub>|\n",
    "|---------------|---------------:|\n",
    "|Common cold    | 3.0|\n",
    "|Influenza      | 1.3|\n",
    "|Measles        | 18.|\n",
    "|SARS-CoV-2     | 5.1|\n",
    "|Polio          | 7.0|\n",
    "|Chickenpox     | 13.|\n",
    "|Ebola          | 1.8|\n",
    "|Smallpox       | 6.0|"
   ]
  },
  {
   "cell_type": "code",
   "execution_count": 1,
   "id": "876daee2-c2cf-41aa-ad44-9afc4a1748e5",
   "metadata": {},
   "outputs": [],
   "source": [
    "def herd_immunity_threshold(R0):\n",
    "    if not isinstance(R0, (int, float)):\n",
    "        raise TypeError(\"R0 has to be a number (int or float).\")\n",
    "        \n",
    "    if R0 <= 1:\n",
    "        raise ValueError(\"R0 has to be greater than 1 to reach head immunity.\")\n",
    "    \n",
    "    hit = 1 - (1 / R0)\n",
    "    return hit*100 #returning the percentage"
   ]
  },
  {
   "cell_type": "code",
   "execution_count": 2,
   "id": "5c5b60e0-5792-4e34-a1ce-a90ec104d12e",
   "metadata": {},
   "outputs": [],
   "source": [
    "diseases = {\n",
    "    \"common_cold\": 3.0,\n",
    "    \"influenza\": 1.3,\n",
    "    \"measles\": 18.,\n",
    "    \"sars_cov_2\": 5.1,\n",
    "    \"polio\": 7.0,\n",
    "    \"chickenpox\": 13.,\n",
    "    \"ebola\": 1.8,\n",
    "    \"smallpox\": 6.0\n",
    "}"
   ]
  },
  {
   "cell_type": "code",
   "execution_count": 3,
   "id": "8652ec03-7799-44ee-b69b-d229f58fb306",
   "metadata": {},
   "outputs": [
    {
     "name": "stdout",
     "output_type": "stream",
     "text": [
      "The 'herd immunity threshold' for common_cold is 66.7%\n",
      "The 'herd immunity threshold' for influenza is 23.1%\n",
      "The 'herd immunity threshold' for measles is 94.4%\n",
      "The 'herd immunity threshold' for sars_cov_2 is 80.4%\n",
      "The 'herd immunity threshold' for polio is 85.7%\n",
      "The 'herd immunity threshold' for chickenpox is 92.3%\n",
      "The 'herd immunity threshold' for ebola is 44.4%\n",
      "The 'herd immunity threshold' for smallpox is 83.3%\n"
     ]
    }
   ],
   "source": [
    "for diseas, r0 in diseases.items():\n",
    "    print(f\"The 'herd immunity threshold' for {diseas} is {round(herd_immunity_threshold(r0),1)}%\")"
   ]
  },
  {
   "cell_type": "markdown",
   "id": "b1f960b1-e0f7-4618-81bf-f60cc2ab061d",
   "metadata": {},
   "source": [
    "#### Conclusion:\n",
    "The Herd Immunity Threshold (HIT) represents the percentage of a population that needs immunity to prevent the spread of a disease. Higher HITs indicate more contagious diseases, requiring a larger portion of the population to be immune. Achieving HIT helps protect vulnerable individuals and prevent outbreaks by limiting the disease's ability to spread.\n",
    "Looking at the percentages, diseases like measles or chickenpox are very very contagious and are very likely to spread."
   ]
  },
  {
   "cell_type": "markdown",
   "id": "6e62c6d2-c7b0-41ca-8259-786c107116dc",
   "metadata": {},
   "source": [
    "#### References\n",
    "1. Diekmann, O., Heesterbeek, J.A.P. and Metz, J.a.J., \"On the definition and the computation of the basic reproduction ratio R0 in models for infectious diseases in heterogeneous populations.\" Journal of Mathematical Biology 28(4), 1990, 365-382 (http://courses.washington.edu/b578a/readings/dieckman1990.pdf)\n",
    "2. Wikipedia: Basic reproduction number, (https://en.wikipedia.org/wiki/Basic_reproduction_number.) Accessed October 21, 2024"
   ]
  }
 ],
 "metadata": {
  "kernelspec": {
   "display_name": "Python 3 (ipykernel)",
   "language": "python",
   "name": "python3"
  },
  "language_info": {
   "codemirror_mode": {
    "name": "ipython",
    "version": 3
   },
   "file_extension": ".py",
   "mimetype": "text/x-python",
   "name": "python",
   "nbconvert_exporter": "python",
   "pygments_lexer": "ipython3",
   "version": "3.12.7"
  }
 },
 "nbformat": 4,
 "nbformat_minor": 5
}
