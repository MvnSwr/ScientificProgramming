{
 "cells": [
  {
   "cell_type": "markdown",
   "id": "eecd41c3-6b79-4d6c-b2c4-73a092665b9c",
   "metadata": {},
   "source": [
    "# Scientific Programming with Python\n",
    "## Assignment: Estimating SARS-CoV-2's Herd Immunity Threshold\n",
    "### SciPro_ID: 2024WS_93\n",
    "####\n",
    "#### Karl N. Kirschner, \n",
    "#### Department of Computer Science, University of Applied Sciences Bonn-Rhein-Sieg, Sankt Augustin, Germany"
   ]
  },
  {
   "cell_type": "markdown",
   "id": "3073184b-af45-4ed2-b93b-0bff96a33bc5",
   "metadata": {},
   "source": [
    "#### Date: 03.10.2024\n",
    "#####\n",
    "#### Goal: Familiarize myself with Jupyter-notebooks, show my level of Python knowledge and learn a bit about a population's herd immunity concerning the SARS-CoV-2 virus"
   ]
  },
  {
   "cell_type": "markdown",
   "id": "3979705c-66fe-457f-ad17-6d3b21937452",
   "metadata": {},
   "source": [
    "#### Task 1:\n",
    "Compute the herd immunity threshold value, as a percentage, based on an estimated basic reproduction number of 2.2 (Western Europe) [1] and 5.08 (Delta) strains of the SARS-CoV_2 virus [2]."
   ]
  },
  {
   "cell_type": "code",
   "execution_count": 15,
   "id": "7bd3f72b-15e2-458a-a5fa-266fe598ba4f",
   "metadata": {},
   "outputs": [],
   "source": [
    "HerdImmunityThreshold_WesternEurope = 0\n",
    "HerdImmunityThreshold_Delta = 0\n",
    "ReproductionNo_WesternEurope = 2.2\n",
    "ReproductionNo_Delta = 5.08"
   ]
  },
  {
   "cell_type": "code",
   "execution_count": 16,
   "id": "9d9960aa-d1b7-446c-8294-ea3984a38150",
   "metadata": {},
   "outputs": [
    {
     "name": "stdout",
     "output_type": "stream",
     "text": [
      "The 'herd immunity threshold' for the reproduction number 'Western Europe' is 54.55%.\n"
     ]
    }
   ],
   "source": [
    "HerdImmunityThreshold_WesternEurope = 1 - (1 / ReproductionNo_WesternEurope)\n",
    "HerdImmunityThreshold_WesternEurope *= 100\n",
    "print(f\"The 'herd immunity threshold' for the reproduction number 'Western Europe' is {round(HerdImmunityThreshold_WesternEurope, 2)}%.\")"
   ]
  },
  {
   "cell_type": "code",
   "execution_count": 17,
   "id": "78bc8a2c-5d55-4fff-b965-dd598ffdf301",
   "metadata": {},
   "outputs": [
    {
     "name": "stdout",
     "output_type": "stream",
     "text": [
      "The 'herd immunity threshold' for the reproduction number 'Delta' is 80.31%.\n"
     ]
    }
   ],
   "source": [
    "HerdImmunityThreshold_Delta = 1 - (1 / ReproductionNo_Delta)\n",
    "HerdImmunityThreshold_Delta *= 100\n",
    "print(f\"The 'herd immunity threshold' for the reproduction number 'Delta' is {round(HerdImmunityThreshold_Delta, 2)}%.\")"
   ]
  },
  {
   "cell_type": "markdown",
   "id": "6e62c6d2-c7b0-41ca-8259-786c107116dc",
   "metadata": {},
   "source": [
    "#### References\n",
    "1. Locatelli I., Trächsel B. and Rousson V., \"Estimating the basic reproduction number for COVID-19 in Western Europe.\" PLoS ONE, 16(3), 2021, e0248731. (https://doi.org/10.1371/journal.pone.0248731)\n",
    "2. Liu, Y. and Rocklöv, J., \"The reproductive number of the Delta variant of SARS-CoV-2 is far higher compared to the ancestral SARS-CoV-2 virus.\" Journal of travel Medicine, 28(7) 2021, 1-3. (https://doi.org/10.1093/jtm/taab124)"
   ]
  }
 ],
 "metadata": {
  "kernelspec": {
   "display_name": "Python 3 (ipykernel)",
   "language": "python",
   "name": "python3"
  },
  "language_info": {
   "codemirror_mode": {
    "name": "ipython",
    "version": 3
   },
   "file_extension": ".py",
   "mimetype": "text/x-python",
   "name": "python",
   "nbconvert_exporter": "python",
   "pygments_lexer": "ipython3",
   "version": "3.12.7"
  }
 },
 "nbformat": 4,
 "nbformat_minor": 5
}
