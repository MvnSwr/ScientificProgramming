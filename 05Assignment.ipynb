{
 "cells": [
  {
   "cell_type": "markdown",
   "id": "eecd41c3-6b79-4d6c-b2c4-73a092665b9c",
   "metadata": {},
   "source": [
    "# Scientific Programming with Python\n",
    "## Assignment: The Performance of Numpy Versus Regular Python Lists\n",
    "### SciPro_ID: 2024WS_93\n",
    "####\n",
    "#### Karl N. Kirschner, \n",
    "#### Department of Computer Science, University of Applied Sciences Bonn-Rhein-Sieg, Sankt Augustin, Germany"
   ]
  },
  {
   "cell_type": "markdown",
   "id": "3073184b-af45-4ed2-b93b-0bff96a33bc5",
   "metadata": {},
   "source": [
    "#### Date: 24.11.2024\n",
    "#####\n",
    "#### Goal: Learn how to use Numpy and how it affects the performance of numerical calculations."
   ]
  },
  {
   "attachments": {
    "b7488ec1-a45f-47fb-a3dd-a8fd4d054141.png": {
     "image/png": "[encoded data removed]"
    }
   },
   "cell_type": "markdown",
   "id": "c2734a9a-3245-43e1-ba71-ef99916cff20",
   "metadata": {},
   "source": [
    "#### Root-Mean-Squared-Error (RMSE) [1]\n",
    "![image.png](attachment:b7488ec1-a45f-47fb-a3dd-a8fd4d054141.png)"
   ]
  },
  {
   "cell_type": "code",
   "execution_count": 1,
   "id": "747bf288-64bc-474f-b831-ce6314cab046",
   "metadata": {},
   "outputs": [],
   "source": [
    "import numpy as np\n",
    "import pandas as pd\n",
    "import timeit"
   ]
  },
  {
   "cell_type": "markdown",
   "id": "3979705c-66fe-457f-ad17-6d3b21937452",
   "metadata": {},
   "source": [
    "#### Task 1:\n",
    "Create to following two user-defined function that encodes the RMSE equation given above:"
   ]
  },
  {
   "cell_type": "markdown",
   "id": "28dcc5b5-baf4-4c27-9394-00eb1625f43c",
   "metadata": {},
   "source": [
    "##### 1. A user-defined function that is written using regular Python lists"
   ]
  },
  {
   "cell_type": "code",
   "execution_count": 2,
   "id": "82b0207c-c5e6-40f8-ab2e-fccccc6d1940",
   "metadata": {},
   "outputs": [],
   "source": [
    "def calc_rmse_with_lists(values):\n",
    "    \"\"\"\n",
    "    Calculate the RMSE value based on the measured data.\n",
    "    \n",
    "    Parameters:\n",
    "    values (list): The input is a python list containing the values from the simulation.\n",
    "    \n",
    "    Returns:\n",
    "    float: The RMSE-value for the simulated values.\n",
    "    \"\"\"\n",
    "    if not isinstance(values, list):\n",
    "        raise ValueError(\"Input must be a Python list.\")\n",
    "    \n",
    "    water_density = 0.995659\n",
    "    n = len(values)\n",
    "    \n",
    "    if n == 0:  # list can not be empty\n",
    "        return 0\n",
    "    \n",
    "    squared_diff_sum = sum((value - water_density) ** 2 for value in values)\n",
    "    \n",
    "    rmse = (squared_diff_sum / n) ** 0.5\n",
    "    return rmse"
   ]
  },
  {
   "cell_type": "markdown",
   "id": "f3aabf9b-8bbc-45e2-9e70-2ad825da35cf",
   "metadata": {},
   "source": [
    "##### 2. A user-defined function that is written to maximize the equation's performance by using Numpy and its functions"
   ]
  },
  {
   "cell_type": "code",
   "execution_count": 3,
   "id": "824d89af-b882-423a-9283-bdd1e52533f7",
   "metadata": {},
   "outputs": [],
   "source": [
    "def calc_rmse_with_numpy(values):\n",
    "    \"\"\"\n",
    "    Calculate the RMSE value based on the measured data using NumPy for performance optimization.\n",
    "    \n",
    "    Parameters:\n",
    "    values (array-like): The input is a NumPy array or a list containing the values from the simulation.\n",
    "    \n",
    "    Returns:\n",
    "    float: The RMSE-value for the simulated values.\n",
    "    \"\"\"\n",
    "    values = np.asarray(values)\n",
    "    \n",
    "    water_density = 0.995659\n",
    "    \n",
    "    if values.size == 0:  # Check for empty array\n",
    "        return 0\n",
    "    \n",
    "    squared_diff = (values - water_density) ** 2\n",
    "    rmse = np.sqrt(np.mean(squared_diff))\n",
    "    return rmse"
   ]
  },
  {
   "cell_type": "markdown",
   "id": "f8e64319-2f04-4893-a062-54cc5e975710",
   "metadata": {},
   "source": [
    "#### Task 2:\n",
    "Read the data contained in the CSV-formatted file, and compute the RMSE of the simulated water density with respect to the experimental value using each of your functions:"
   ]
  },
  {
   "cell_type": "code",
   "execution_count": 4,
   "id": "5a47ba31-8926-41c1-8291-951e4d2387d9",
   "metadata": {},
   "outputs": [
    {
     "data": {
      "text/html": [
       "<div>\n",
       "<style scoped>\n",
       "    .dataframe tbody tr th:only-of-type {\n",
       "        vertical-align: middle;\n",
       "    }\n",
       "\n",
       "    .dataframe tbody tr th {\n",
       "        vertical-align: top;\n",
       "    }\n",
       "\n",
       "    .dataframe thead th {\n",
       "        text-align: right;\n",
       "    }\n",
       "</style>\n",
       "<table border=\"1\" class=\"dataframe\">\n",
       "  <thead>\n",
       "    <tr style=\"text-align: right;\">\n",
       "      <th></th>\n",
       "      <th>Time</th>\n",
       "      <th>Density</th>\n",
       "    </tr>\n",
       "  </thead>\n",
       "  <tbody>\n",
       "    <tr>\n",
       "      <th>21</th>\n",
       "      <td>21.0</td>\n",
       "      <td>0.7080</td>\n",
       "    </tr>\n",
       "    <tr>\n",
       "      <th>22</th>\n",
       "      <td>22.0</td>\n",
       "      <td>0.7264</td>\n",
       "    </tr>\n",
       "    <tr>\n",
       "      <th>23</th>\n",
       "      <td>23.0</td>\n",
       "      <td>0.7456</td>\n",
       "    </tr>\n",
       "    <tr>\n",
       "      <th>24</th>\n",
       "      <td>24.0</td>\n",
       "      <td>0.7627</td>\n",
       "    </tr>\n",
       "    <tr>\n",
       "      <th>25</th>\n",
       "      <td>25.0</td>\n",
       "      <td>0.7819</td>\n",
       "    </tr>\n",
       "    <tr>\n",
       "      <th>...</th>\n",
       "      <td>...</td>\n",
       "      <td>...</td>\n",
       "    </tr>\n",
       "    <tr>\n",
       "      <th>1116</th>\n",
       "      <td>1116.0</td>\n",
       "      <td>0.9990</td>\n",
       "    </tr>\n",
       "    <tr>\n",
       "      <th>1117</th>\n",
       "      <td>1117.0</td>\n",
       "      <td>0.9945</td>\n",
       "    </tr>\n",
       "    <tr>\n",
       "      <th>1118</th>\n",
       "      <td>1118.0</td>\n",
       "      <td>0.9927</td>\n",
       "    </tr>\n",
       "    <tr>\n",
       "      <th>1119</th>\n",
       "      <td>1119.0</td>\n",
       "      <td>1.0011</td>\n",
       "    </tr>\n",
       "    <tr>\n",
       "      <th>1120</th>\n",
       "      <td>1120.0</td>\n",
       "      <td>0.9976</td>\n",
       "    </tr>\n",
       "  </tbody>\n",
       "</table>\n",
       "<p>1100 rows × 2 columns</p>\n",
       "</div>"
      ],
      "text/plain": [
       "        Time  Density\n",
       "21      21.0   0.7080\n",
       "22      22.0   0.7264\n",
       "23      23.0   0.7456\n",
       "24      24.0   0.7627\n",
       "25      25.0   0.7819\n",
       "...      ...      ...\n",
       "1116  1116.0   0.9990\n",
       "1117  1117.0   0.9945\n",
       "1118  1118.0   0.9927\n",
       "1119  1119.0   1.0011\n",
       "1120  1120.0   0.9976\n",
       "\n",
       "[1100 rows x 2 columns]"
      ]
     },
     "execution_count": 4,
     "metadata": {},
     "output_type": "execute_result"
    }
   ],
   "source": [
    "simulation_values = pd.read_csv('density.csv')\n",
    "\n",
    "#cleaning rows, were the density is NaN\n",
    "simulation_values.dropna(inplace=True)\n",
    "\n",
    "simulation_values"
   ]
  },
  {
   "cell_type": "code",
   "execution_count": 5,
   "id": "06d5013a-6eb0-417a-9cd8-d5ea09bd4ab1",
   "metadata": {},
   "outputs": [
    {
     "name": "stdout",
     "output_type": "stream",
     "text": [
      "RMSE-value calculated with a python list: 2.109178e-02,\n",
      "RMSE-value calculated with NumPy: 2.109178e-02\n"
     ]
    }
   ],
   "source": [
    "density_values = simulation_values.iloc[:, 1].to_list()  #converting to a python list\n",
    "\n",
    "rmse_list = calc_rmse_with_lists(density_values)\n",
    "rmse_numpy = calc_rmse_with_numpy(density_values)\n",
    "\n",
    "print(f\"RMSE-value calculated with a python list: {rmse_list:0.6e},\")\n",
    "print(f\"RMSE-value calculated with NumPy: {rmse_numpy:0.6e}\")"
   ]
  },
  {
   "cell_type": "markdown",
   "id": "990913aa-0742-4ed4-9f3b-946dd4fefef3",
   "metadata": {},
   "source": [
    "#### Task 3:\n",
    "Evaluate the speed of performance between your two functions (Taks 1) by computing the RMSE of the simulated water density. You will use the timeit library for this, and assign its \"number\" parameter to 20,000."
   ]
  },
  {
   "cell_type": "code",
   "execution_count": 6,
   "id": "3527fc95-2580-4b86-b9f2-35443632e8d3",
   "metadata": {},
   "outputs": [
    {
     "name": "stdout",
     "output_type": "stream",
     "text": [
      "RMSE-value calculated with a Python list: 2.109178e-02, time: 2.2103 seconds.\n",
      "RMSE-value calculated with NumPy: 2.109178e-02, time: 0.8602 seconds.\n"
     ]
    }
   ],
   "source": [
    "list_time = timeit.timeit(lambda: calc_rmse_with_lists(density_values), number=20000)\n",
    "numpy_time = timeit.timeit(lambda: calc_rmse_with_numpy(density_values), number=20000)\n",
    "\n",
    "rmse_list = calc_rmse_with_lists(density_values)\n",
    "rmse_numpy = calc_rmse_with_numpy(density_values)\n",
    "\n",
    "print(f\"RMSE-value calculated with a Python list: {rmse_list:0.6e}, time: {list_time:0.4f} seconds.\")\n",
    "print(f\"RMSE-value calculated with NumPy: {rmse_numpy:0.6e}, time: {numpy_time:0.4f} seconds.\")"
   ]
  },
  {
   "cell_type": "markdown",
   "id": "b1f960b1-e0f7-4618-81bf-f60cc2ab061d",
   "metadata": {},
   "source": [
    "#### Conclusion:\n",
    "This project compared the performance of NumPy and regular Python lists in calculating the RMSE of simulated water density. By running each function 20,000 times with timeit, the NumPy-based function was found to be up to 3 times faster than the Python list version. This speed difference is due to NumPy’s optimized array operations, which are more efficient for numerical computations. The project highlights the performance benefits of NumPy, especially for large datasets."
   ]
  },
  {
   "cell_type": "markdown",
   "id": "6e62c6d2-c7b0-41ca-8259-786c107116dc",
   "metadata": {},
   "source": [
    "#### References\n",
    "1. M. Vedamuthu, S. Singh, and G.W. Robinson. Properties of liquid water: origin of the density anomalies. The Journal of Physical Chemistry, 98 (1994): 2222-2230"
   ]
  }
 ],
 "metadata": {
  "kernelspec": {
   "display_name": "Python 3 (ipykernel)",
   "language": "python",
   "name": "python3"
  },
  "language_info": {
   "codemirror_mode": {
    "name": "ipython",
    "version": 3
   },
   "file_extension": ".py",
   "mimetype": "text/x-python",
   "name": "python",
   "nbconvert_exporter": "python",
   "pygments_lexer": "ipython3",
   "version": "3.12.7"
  }
 },
 "nbformat": 4,
 "nbformat_minor": 5
}
